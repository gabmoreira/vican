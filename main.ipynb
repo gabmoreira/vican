{
 "cells": [
  {
   "cell_type": "markdown",
   "metadata": {},
   "source": [
    "# <center> VICAN: Tutorial</center>\n",
    "\n"
   ]
  },
  {
   "cell_type": "code",
   "execution_count": null,
   "metadata": {},
   "outputs": [],
   "source": [
    "import os\n",
    "import torch\n",
    "import numpy as np\n",
    "import matplotlib.pyplot as plt\n",
    "import seaborn as sns\n",
    "from shapely.geometry import Polygon\n",
    "\n",
    "from cam import estimate_pose_mp\n",
    "from pgo import bipartite_se3sync, object_bipartite_se3sync\n",
    "from plot import plot2D\n",
    "from linalg import optimize_gauge_SE3, distance_SO3, angle\n",
    "from dataset import Dataset\n",
    "\n",
    "# Edit path to the folder containing the renders\n",
    "RENDER_PATH = \"./small_room_render\"\n",
    "# Edit path to the folder containing the cube calibration images.\n",
    "OBJ_RENDER_PATH = \"./cube_calib_render/\"\n",
    "# Edit marker size in meters (check render script to be sure)\n",
    "MARKER_SIZE = 0.48*0.575\n",
    "# Check which IDs are used \n",
    "MARKER_IDS = list(map(str, range(24)))\n",
    "\n",
    "dataset     = Dataset(root=RENDER_PATH)\n",
    "obj_dataset = Dataset(root=OBJ_RENDER_PATH)"
   ]
  },
  {
   "cell_type": "markdown",
   "metadata": {},
   "source": [
    "# 1. Calibrate object: cube with 24 markers"
   ]
  },
  {
   "cell_type": "code",
   "execution_count": null,
   "metadata": {},
   "outputs": [],
   "source": [
    "aux = estimate_pose_mp(cams=obj_dataset.im_data['cam'],\n",
    "                       im_filenames=obj_dataset.im_data['filename'],\n",
    "                       aruco='DICT_4X4_1000',\n",
    "                       marker_size=MARKER_SIZE,\n",
    "                       corner_refine='CORNER_REFINE_APRILTAG',\n",
    "                       marker_ids=MARKER_IDS,\n",
    "                       flags='SOLVEPNP_IPPE_SQUARE',\n",
    "                       brightness=-150,\n",
    "                       contrast=120)\n",
    "\n",
    "obj_pose_est = object_bipartite_se3sync(aux,\n",
    "                                        noise_model_r=lambda edge : 0.01 * Polygon(zip(edge['corners'][:,0], edge['corners'][:,1])).area**2,\n",
    "                                        noise_model_t=lambda edge : 0.001 * Polygon(zip(edge['corners'][:,0], edge['corners'][:,1])).area**6,\n",
    "                                        edge_filter=lambda edge : edge['reprojected_err'] < 0.3,\n",
    "                                        maxiter=4,\n",
    "                                        lsqr_solver=\"conjugate_gradient\",\n",
    "                                        dtype=np.float64)"
   ]
  },
  {
   "cell_type": "markdown",
   "metadata": {},
   "source": [
    "# 2. Detect markers & estimate camera-marker poses"
   ]
  },
  {
   "cell_type": "code",
   "execution_count": null,
   "metadata": {},
   "outputs": [],
   "source": [
    "cam_marker_edges = estimate_pose_mp(cams=dataset.im_data['cam'],\n",
    "                                    im_filenames=dataset.im_data['filename'],\n",
    "                                    aruco='DICT_4X4_1000',\n",
    "                                    marker_size=MARKER_SIZE,\n",
    "                                    corner_refine='CORNER_REFINE_APRILTAG',\n",
    "                                    marker_ids=MARKER_IDS,\n",
    "                                    flags='SOLVEPNP_IPPE_SQUARE',\n",
    "                                    brightness=-150,\n",
    "                                    contrast=120)\n",
    "\n",
    "# Save it to use later if necessary\n",
    "torch.save(cam_marker_edges, os.path.join(RENDER_PATH, 'cam_marker_edges.pt'))\n",
    "\n",
    "\"\"\"\n",
    "# Load it if already computed earlier\n",
    "cam_marker_edges = torch.load(os.path.join(RENDER_PATH, 'cam_marker_edges.pt'))\n",
    "\"\"\""
   ]
  },
  {
   "cell_type": "markdown",
   "metadata": {},
   "source": [
    "# 3. Pose graph optmization (VICAN)"
   ]
  },
  {
   "cell_type": "code",
   "execution_count": null,
   "metadata": {},
   "outputs": [],
   "source": [
    "# Select a subset of timesteps\n",
    "edges = {k : v for k, v in cam_marker_edges.items() if int(k[1].split('_')[0]) < 5000}\n",
    "\n",
    "pose_est = bipartite_se3sync(edges,\n",
    "                             constraints=obj_pose_est,\n",
    "                             noise_model_r=lambda edge : 0.01 * Polygon(zip(edge['corners'][:,0], edge['corners'][:,1])).area**2.0,\n",
    "                             noise_model_t=lambda edge : 0.001 * Polygon(zip(edge['corners'][:,0], edge['corners'][:,1])).area**2.0,\n",
    "                             edge_filter=lambda edge : edge['reprojected_err'] < 0.03,\n",
    "                             maxiter=3,\n",
    "                             lsqr_solver=\"conjugate_gradient\",\n",
    "                             dtype=np.float32)"
   ]
  },
  {
   "cell_type": "markdown",
   "metadata": {},
   "source": [
    "# 4. Comparison with ground-truth"
   ]
  },
  {
   "cell_type": "code",
   "execution_count": null,
   "metadata": {},
   "outputs": [],
   "source": [
    "missing_cam_ids = [c for c in dataset.cams.keys() if c not in pose_est.keys()]\n",
    "valid_cam_ids   = [c for c in dataset.cams.keys() if c in pose_est.keys()]\n",
    "\n",
    "G = optimize_gauge_SE3([dataset.cams[c].extrinsics.inv() for c in valid_cam_ids],\n",
    "                       [pose_est[c] for c in valid_cam_ids])\n",
    "r_err  = []\n",
    "t_err  = []\n",
    "for c in valid_cam_ids:\n",
    "    gt  = dataset.cams[c].extrinsics.inv()\n",
    "    est = pose_est[c] @ G\n",
    "    t_err.append(np.linalg.norm(gt.t() - est.t(), ord=2)*100)\n",
    "    r_err.append(distance_SO3(gt.R(), est.R()))              \n",
    "\n",
    "print(\"SO(3)\\t min: {:.3f}deg  |  avg: {:.3f}deg  |  median: {:.3f}deg  |  max: {:.3f}deg\".format(np.min(r_err), np.mean(r_err), np.median(r_err), np.max(r_err)))\n",
    "print(\"E(3) \\t min: {:.3f}cm   |  avg: {:.3f}cm   |  median: {:.3f}cm   |  max: {:.3f}cm\".format(np.min(t_err), np.mean(t_err), np.median(t_err), np.max(t_err)))\n",
    "print(\"Missing cam IDs: {}\".format(missing_cam_ids))"
   ]
  },
  {
   "cell_type": "markdown",
   "metadata": {},
   "source": [
    "# 5. 2D Plot"
   ]
  },
  {
   "cell_type": "code",
   "execution_count": null,
   "metadata": {},
   "outputs": [],
   "source": [
    "sns.set_theme()\n",
    "fig = plt.figure(figsize=(14,14))\n",
    "ax = fig.add_subplot(111)\n",
    "\n",
    "plot2D(ax, pose_est, invert=True, idx=valid_cam_ids, gauge=G, view='xy', marker='x', s=30, c='blue')\n",
    "plot2D(ax, dataset.cams, view='xy', marker='x', s=30, c='red')\n",
    "plot2D(ax, dataset.object, view='xy', marker='.', s=15, c=[0,0.6,0,0.4])\n",
    "plt.axis('equal')\n",
    "plt.xlabel('x (m)')\n",
    "plt.ylabel('y (m)')\n",
    "plt.legend(['Estimates', 'Ground-truth', 'Object'])"
   ]
  }
 ],
 "metadata": {
  "kernelspec": {
   "display_name": "Python 3",
   "language": "python",
   "name": "python3"
  },
  "language_info": {
   "codemirror_mode": {
    "name": "ipython",
    "version": 3
   },
   "file_extension": ".py",
   "mimetype": "text/x-python",
   "name": "python",
   "nbconvert_exporter": "python",
   "pygments_lexer": "ipython3",
   "version": "3.6.9"
  }
 },
 "nbformat": 4,
 "nbformat_minor": 4
}
